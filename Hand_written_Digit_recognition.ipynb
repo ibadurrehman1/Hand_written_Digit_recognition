{
  "cells": [
    {
      "cell_type": "markdown",
      "metadata": {
        "id": "view-in-github",
        "colab_type": "text"
      },
      "source": [
        "<a href=\"https://colab.research.google.com/github/ibadurrehman1/Hand_written_Digit_recognition/blob/master/Hand_written_Digit_recognition.ipynb\" target=\"_parent\"><img src=\"https://colab.research.google.com/assets/colab-badge.svg\" alt=\"Open In Colab\"/></a>"
      ]
    },
    {
      "cell_type": "code",
      "execution_count": 1,
      "metadata": {
        "id": "dlg79E9_ZPr8"
      },
      "outputs": [],
      "source": [
        "!pip install -q keras\n"
      ]
    },
    {
      "cell_type": "code",
      "execution_count": 17,
      "metadata": {
        "id": "TIdJI-A2a1x4"
      },
      "outputs": [],
      "source": [
        "from keras.models import Sequential,Model\n",
        "from keras.layers import Dense,Flatten,MaxPool2D,Conv2D,Input\n",
        "from keras.datasets import mnist\n",
        "from keras.optimizers import Adadelta,Adam\n",
        "from keras.losses import categorical_crossentropy\n",
        "from keras import backend as k\n"
      ]
    },
    {
      "cell_type": "code",
      "execution_count": 42,
      "metadata": {
        "id": "-Cr-ewkDa2ZI"
      },
      "outputs": [],
      "source": [
        "(X_train,y_train) , (X_test,y_test)=mnist.load_data()"
      ]
    },
    {
      "cell_type": "code",
      "execution_count": 43,
      "metadata": {
        "colab": {
          "base_uri": "https://localhost:8080/"
        },
        "id": "7JlCqX51cW4e",
        "outputId": "83642165-417b-4287-efb0-8f3247e4c601"
      },
      "outputs": [
        {
          "output_type": "stream",
          "name": "stdout",
          "text": [
            "(60000, 28, 28)\n",
            "(60000,)\n",
            "(10000, 28, 28)\n",
            "(10000,)\n"
          ]
        }
      ],
      "source": [
        "print(X_train.shape)\n",
        "print(y_train.shape)\n",
        "print(X_test.shape)\n",
        "print(y_test.shape)\n"
      ]
    },
    {
      "cell_type": "code",
      "execution_count": 44,
      "metadata": {
        "colab": {
          "base_uri": "https://localhost:8080/",
          "height": 268
        },
        "id": "WsngFUc5cfVe",
        "outputId": "4bdbc33f-8486-4cfd-f3c1-f6784cf3ddda"
      },
      "outputs": [
        {
          "output_type": "display_data",
          "data": {
            "text/plain": [
              "<Figure size 432x288 with 9 Axes>"
            ],
            "image/png": "[encoded data removed]"
          },
          "metadata": {
            "needs_background": "light"
          }
        }
      ],
      "source": [
        "import matplotlib.pyplot as plt\n",
        "# plot first few images\n",
        "for i in range(9):\n",
        "  # define subplot\n",
        "  plt.subplot(330 + 1 + i)\n",
        "  # plot raw pixel data\n",
        "  plt.imshow(X_train[i+10],cmap=plt.get_cmap('gray'))\n",
        "# show the figure\n",
        "plt.show()"
      ]
    },
    {
      "cell_type": "code",
      "execution_count": 45,
      "metadata": {
        "colab": {
          "base_uri": "https://localhost:8080/",
          "height": 36
        },
        "id": "byepIBQqcvyP",
        "outputId": "a3b6e85b-59e9-4853-b359-93dadb060427"
      },
      "outputs": [
        {
          "output_type": "execute_result",
          "data": {
            "text/plain": [
              "'channels_last'"
            ],
            "application/vnd.google.colaboratory.intrinsic+json": {
              "type": "string"
            }
          },
          "metadata": {},
          "execution_count": 45
        }
      ],
      "source": [
        "k.image_data_format()"
      ]
    },
    {
      "cell_type": "code",
      "execution_count": 46,
      "metadata": {
        "colab": {
          "base_uri": "https://localhost:8080/"
        },
        "id": "iuFEWGmdkC_z",
        "outputId": "94e456ff-ce5c-4a7f-c03b-8adb461a76ae"
      },
      "outputs": [
        {
          "output_type": "execute_result",
          "data": {
            "text/plain": [
              "(10000, 28, 28)"
            ]
          },
          "metadata": {},
          "execution_count": 46
        }
      ],
      "source": [
        "X_test.shape"
      ]
    },
    {
      "cell_type": "code",
      "execution_count": 47,
      "metadata": {
        "id": "kBkvBTAceSO3"
      },
      "outputs": [],
      "source": [
        "if k.image_data_format()==\"channels_first\":\n",
        "  X_train=X_train.reshape(X_train.shape[0],1,X_train.shape[1],X_train.shape[2])\n",
        "  X_test=X_test.reshape(X_test.shape[0],1,X_test.shape[1],X_test.shape[2])\n",
        "  inp=(1,X_train.shape[1],X_train.shape[2])\n",
        "elif k.image_data_format()==\"channels_last\":\n",
        "  X_train=X_train.reshape(X_train.shape[0],X_train.shape[1],X_train.shape[2],1)\n",
        "  X_test=X_test.reshape(X_test.shape[0],X_test.shape[1],X_test.shape[2],1)\n",
        "  inp=(X_train.shape[1],X_train.shape[2],1)\n"
      ]
    },
    {
      "cell_type": "code",
      "execution_count": 48,
      "metadata": {
        "id": "Ff2fYv4ngyyS"
      },
      "outputs": [],
      "source": [
        "X_train=X_train.astype(\"float32\")\n",
        "X_test=X_test.astype(\"float32\")"
      ]
    },
    {
      "cell_type": "code",
      "execution_count": 49,
      "metadata": {
        "id": "WLS8jac0iE5I"
      },
      "outputs": [],
      "source": [
        "X_train/=255\n",
        "X_test/=255"
      ]
    },
    {
      "cell_type": "code",
      "execution_count": 50,
      "metadata": {
        "id": "fT_nsQ7IiV_I"
      },
      "outputs": [],
      "source": [
        "from keras.layers.regularization.spatial_dropout3d import Dropout\n",
        "layer1=Input(shape=inp)\n",
        "layer2=Conv2D(32,3,activation=\"relu\")(layer1)\n",
        "layer3=Conv2D(64,3,activation=\"relu\")(layer2)\n",
        "layer4=MaxPool2D(pool_size=(3,3))(layer3)\n",
        "layer5=Dropout(0.5)(layer4)\n",
        "layer6=Flatten()(layer5)\n",
        "layer7=Dense(units=250,activation=\"relu\")(layer6)\n",
        "layer8=Dense(units=10,activation='softmax')(layer7)"
      ]
    },
    {
      "cell_type": "code",
      "execution_count": 51,
      "metadata": {
        "id": "1mYDxVb9jt7H"
      },
      "outputs": [],
      "source": [
        "model=Model([layer1],layer8)"
      ]
    },
    {
      "cell_type": "code",
      "execution_count": 52,
      "metadata": {
        "id": "MJqMjt8Xj1Y_"
      },
      "outputs": [],
      "source": [
        "from keras.utils import to_categorical\n",
        "y_test=to_categorical(y_test)\n",
        "y_train=to_categorical(y_train)"
      ]
    },
    {
      "cell_type": "code",
      "execution_count": 53,
      "metadata": {
        "id": "-odDfCivlHf1"
      },
      "outputs": [],
      "source": [
        "from tensorflow.python import metrics\n",
        "from keras.engine.training import optimizers\n",
        "model.compile(optimizer=Adam(),loss=categorical_crossentropy,metrics=[\"accuracy\"])"
      ]
    },
    {
      "cell_type": "code",
      "execution_count": 54,
      "metadata": {
        "id": "ps6tHzkImt-d",
        "colab": {
          "base_uri": "https://localhost:8080/"
        },
        "outputId": "e27e2fa3-8635-4c80-b22b-6d2419bbb935"
      },
      "outputs": [
        {
          "output_type": "stream",
          "name": "stdout",
          "text": [
            "Model: \"model_2\"\n",
            "_________________________________________________________________\n",
            " Layer (type)                Output Shape              Param #   \n",
            "=================================================================\n",
            " input_3 (InputLayer)        [(None, 28, 28, 1)]       0         \n",
            "                                                                 \n",
            " conv2d_4 (Conv2D)           (None, 26, 26, 32)        320       \n",
            "                                                                 \n",
            " conv2d_5 (Conv2D)           (None, 24, 24, 64)        18496     \n",
            "                                                                 \n",
            " max_pooling2d_2 (MaxPooling  (None, 8, 8, 64)         0         \n",
            " 2D)                                                             \n",
            "                                                                 \n",
            " dropout_2 (Dropout)         (None, 8, 8, 64)          0         \n",
            "                                                                 \n",
            " flatten_2 (Flatten)         (None, 4096)              0         \n",
            "                                                                 \n",
            " dense_4 (Dense)             (None, 250)               1024250   \n",
            "                                                                 \n",
            " dense_5 (Dense)             (None, 10)                2510      \n",
            "                                                                 \n",
            "=================================================================\n",
            "Total params: 1,045,576\n",
            "Trainable params: 1,045,576\n",
            "Non-trainable params: 0\n",
            "_________________________________________________________________\n"
          ]
        }
      ],
      "source": [
        "model.summary()"
      ]
    },
    {
      "cell_type": "code",
      "execution_count": 55,
      "metadata": {
        "colab": {
          "base_uri": "https://localhost:8080/"
        },
        "id": "JCPD2LhdlnBo",
        "outputId": "aa509ca6-a8b6-42d7-92a9-c82dfda51b3f"
      },
      "outputs": [
        {
          "output_type": "stream",
          "name": "stdout",
          "text": [
            "Epoch 1/20\n",
            "1875/1875 [==============================] - 8s 4ms/step - loss: 0.1369 - accuracy: 0.9573\n",
            "Epoch 2/20\n",
            "1875/1875 [==============================] - 7s 4ms/step - loss: 0.0533 - accuracy: 0.9828\n",
            "Epoch 3/20\n",
            "1875/1875 [==============================] - 7s 4ms/step - loss: 0.0405 - accuracy: 0.9871\n",
            "Epoch 4/20\n",
            "1875/1875 [==============================] - 9s 5ms/step - loss: 0.0308 - accuracy: 0.9898\n",
            "Epoch 5/20\n",
            "1875/1875 [==============================] - 7s 4ms/step - loss: 0.0258 - accuracy: 0.9915\n",
            "Epoch 6/20\n",
            "1875/1875 [==============================] - 7s 4ms/step - loss: 0.0216 - accuracy: 0.9930\n",
            "Epoch 7/20\n",
            "1875/1875 [==============================] - 7s 4ms/step - loss: 0.0188 - accuracy: 0.9937\n",
            "Epoch 8/20\n",
            "1875/1875 [==============================] - 7s 4ms/step - loss: 0.0174 - accuracy: 0.9943\n",
            "Epoch 9/20\n",
            "1875/1875 [==============================] - 7s 4ms/step - loss: 0.0153 - accuracy: 0.9951\n",
            "Epoch 10/20\n",
            "1875/1875 [==============================] - 7s 4ms/step - loss: 0.0143 - accuracy: 0.9952\n",
            "Epoch 11/20\n",
            "1875/1875 [==============================] - 7s 4ms/step - loss: 0.0121 - accuracy: 0.9961\n",
            "Epoch 12/20\n",
            "1875/1875 [==============================] - 7s 4ms/step - loss: 0.0129 - accuracy: 0.9958\n",
            "Epoch 13/20\n",
            "1875/1875 [==============================] - 7s 4ms/step - loss: 0.0112 - accuracy: 0.9963\n",
            "Epoch 14/20\n",
            "1875/1875 [==============================] - 7s 4ms/step - loss: 0.0110 - accuracy: 0.9965\n",
            "Epoch 15/20\n",
            "1875/1875 [==============================] - 7s 4ms/step - loss: 0.0099 - accuracy: 0.9968\n",
            "Epoch 16/20\n",
            "1875/1875 [==============================] - 7s 4ms/step - loss: 0.0091 - accuracy: 0.9967\n",
            "Epoch 17/20\n",
            "1875/1875 [==============================] - 7s 4ms/step - loss: 0.0096 - accuracy: 0.9967\n",
            "Epoch 18/20\n",
            "1875/1875 [==============================] - 7s 4ms/step - loss: 0.0081 - accuracy: 0.9976\n",
            "Epoch 19/20\n",
            "1875/1875 [==============================] - 7s 4ms/step - loss: 0.0086 - accuracy: 0.9974\n",
            "Epoch 20/20\n",
            "1875/1875 [==============================] - 7s 4ms/step - loss: 0.0079 - accuracy: 0.9975\n"
          ]
        }
      ],
      "source": [
        "history=model.fit(X_train,y_train,epochs=20)"
      ]
    },
    {
      "cell_type": "code",
      "execution_count": 56,
      "metadata": {
        "id": "IJREZlN83z1o",
        "colab": {
          "base_uri": "https://localhost:8080/"
        },
        "outputId": "04e76be6-501c-4b11-866c-d86f17d9704e"
      },
      "outputs": [
        {
          "output_type": "stream",
          "name": "stdout",
          "text": [
            "313/313 [==============================] - 1s 3ms/step - loss: 0.0324 - accuracy: 0.9935\n"
          ]
        },
        {
          "output_type": "execute_result",
          "data": {
            "text/plain": [
              "[0.032447122037410736, 0.9934999942779541]"
            ]
          },
          "metadata": {},
          "execution_count": 56
        }
      ],
      "source": [
        "model.evaluate(X_test,y_test)"
      ]
    },
    {
      "cell_type": "code",
      "source": [
        "history.history"
      ],
      "metadata": {
        "colab": {
          "base_uri": "https://localhost:8080/"
        },
        "id": "L2qwh45fTOmY",
        "outputId": "daabc852-2991-48fb-802d-99d141e0eb66"
      },
      "execution_count": 57,
      "outputs": [
        {
          "output_type": "execute_result",
          "data": {
            "text/plain": [
              "{'loss': [0.13689248263835907,\n",
              "  0.05326361581683159,\n",
              "  0.04049406573176384,\n",
              "  0.030781494453549385,\n",
              "  0.0258429367095232,\n",
              "  0.021551283076405525,\n",
              "  0.01876477338373661,\n",
              "  0.017393741756677628,\n",
              "  0.01528144534677267,\n",
              "  0.014284422621130943,\n",
              "  0.012070012278854847,\n",
              "  0.012896306812763214,\n",
              "  0.011236468330025673,\n",
              "  0.010993593372404575,\n",
              "  0.009861639700829983,\n",
              "  0.009106149896979332,\n",
              "  0.009586137719452381,\n",
              "  0.008144567720592022,\n",
              "  0.008566012606024742,\n",
              "  0.007862593047320843],\n",
              " 'accuracy': [0.9572833180427551,\n",
              "  0.982783317565918,\n",
              "  0.9871000051498413,\n",
              "  0.9897833466529846,\n",
              "  0.9915000200271606,\n",
              "  0.9930499792098999,\n",
              "  0.9937499761581421,\n",
              "  0.9943333268165588,\n",
              "  0.9951333403587341,\n",
              "  0.9952333569526672,\n",
              "  0.9960833191871643,\n",
              "  0.9957500100135803,\n",
              "  0.9962833523750305,\n",
              "  0.9965166449546814,\n",
              "  0.9967833161354065,\n",
              "  0.996749997138977,\n",
              "  0.996666669845581,\n",
              "  0.9975666403770447,\n",
              "  0.9974333047866821,\n",
              "  0.9975333213806152]}"
            ]
          },
          "metadata": {},
          "execution_count": 57
        }
      ]
    },
    {
      "cell_type": "code",
      "execution_count": 58,
      "metadata": {
        "id": "Qg8MmGUvn8VC",
        "colab": {
          "base_uri": "https://localhost:8080/",
          "height": 281
        },
        "outputId": "c1d6b90c-5bfe-4ab9-f9e3-b4ced8038358"
      },
      "outputs": [
        {
          "output_type": "display_data",
          "data": {
            "text/plain": [
              "<Figure size 432x288 with 1 Axes>"
            ],
            "image/png": "[encoded data removed]"
          },
          "metadata": {
            "needs_background": "light"
          }
        }
      ],
      "source": [
        "\n",
        "import matplotlib.pyplot as plt\n",
        "plt.plot(history.history['accuracy'],label=\"Training Accuracy\",color='g')\n",
        "plt.plot(history.history['loss'],label=\"Training Loss\",color='r')\n",
        "plt.legend()\n",
        "plt.title(\"Accuracy Loss Graph\")\n",
        "plt.ylim([0,1])\n",
        "plt.show()\n"
      ]
    },
    {
      "cell_type": "code",
      "execution_count": 59,
      "metadata": {
        "id": "qjCT2PUt4m78",
        "colab": {
          "base_uri": "https://localhost:8080/"
        },
        "outputId": "0337d784-103d-4911-99d2-1f3ada6a7f58"
      },
      "outputs": [
        {
          "output_type": "stream",
          "name": "stdout",
          "text": [
            "1/1 [==============================] - 0s 75ms/step\n",
            "6\n"
          ]
        }
      ],
      "source": [
        "import numpy as np\n",
        "prediction=model.predict(X_test[22:23])\n",
        "print(np.argmax(np.round(prediction)))"
      ]
    },
    {
      "cell_type": "code",
      "source": [
        "plt.imshow(X_test[22])"
      ],
      "metadata": {
        "colab": {
          "base_uri": "https://localhost:8080/",
          "height": 283
        },
        "id": "esCPfEReXCoX",
        "outputId": "65812ea6-1d7a-4924-a300-a7a215e7388b"
      },
      "execution_count": 60,
      "outputs": [
        {
          "output_type": "execute_result",
          "data": {
            "text/plain": [
              "<matplotlib.image.AxesImage at 0x7f8e4a5f3250>"
            ]
          },
          "metadata": {},
          "execution_count": 60
        },
        {
          "output_type": "display_data",
          "data": {
            "text/plain": [
              "<Figure size 432x288 with 1 Axes>"
            ],
            "image/png": "[encoded data removed]"
          },
          "metadata": {
            "needs_background": "light"
          }
        }
      ]
    },
    {
      "cell_type": "code",
      "source": [
        "import cv2\n",
        "import numpy as np\n",
        "\n",
        "def prediction(path):\n",
        "  image = cv2.imread(path)\n",
        "\n",
        "  # Resize the image\n",
        "  resized_image = cv2.resize(image, (28, 28))\n",
        "\n",
        "  # Convert the resized image to grayscale\n",
        "  gray_image = cv2.cvtColor(resized_image, cv2.COLOR_BGR2GRAY)\n",
        "\n",
        "  # Reshape the grayscale image to have a shape of (28, 28, 1)\n",
        "  final_image = np.reshape(gray_image, (28, 28, 1))\n",
        "  final_image=final_image.astype('float32')\n",
        "  final_image/=255\n",
        "  plt.imshow(final_image)\n",
        "  pred = model.predict(final_image.reshape(1, 28, 28, 1))\n",
        "  print(pred.argmax())"
      ],
      "metadata": {
        "id": "xp_JAR9GfkhS"
      },
      "execution_count": 61,
      "outputs": []
    },
    {
      "cell_type": "code",
      "source": [
        "prediction(\"/content/5.jpg\")"
      ],
      "metadata": {
        "colab": {
          "base_uri": "https://localhost:8080/",
          "height": 302
        },
        "id": "mBZtxJ9YTx9H",
        "outputId": "79a663e4-8db4-453f-82b9-8d1e503f027b"
      },
      "execution_count": 62,
      "outputs": [
        {
          "output_type": "stream",
          "name": "stdout",
          "text": [
            "1/1 [==============================] - 0s 22ms/step\n",
            "5\n"
          ]
        },
        {
          "output_type": "display_data",
          "data": {
            "text/plain": [
              "<Figure size 432x288 with 1 Axes>"
            ],
            "image/png": "[encoded data removed]"
          },
          "metadata": {
            "needs_background": "light"
          }
        }
      ]
    },
    {
      "cell_type": "code",
      "source": [
        "prediction(\"/content/4.jpg\")"
      ],
      "metadata": {
        "colab": {
          "base_uri": "https://localhost:8080/",
          "height": 302
        },
        "id": "brJHFhDrT14H",
        "outputId": "42475451-3d4f-45ab-fcb0-5b858f17fbfb"
      },
      "execution_count": 65,
      "outputs": [
        {
          "output_type": "stream",
          "name": "stdout",
          "text": [
            "1/1 [==============================] - 0s 25ms/step\n",
            "4\n"
          ]
        },
        {
          "output_type": "display_data",
          "data": {
            "text/plain": [
              "<Figure size 432x288 with 1 Axes>"
            ],
            "image/png": "[encoded data removed]"
          },
          "metadata": {
            "needs_background": "light"
          }
        }
      ]
    },
    {
      "cell_type": "code",
      "source": [],
      "metadata": {
        "id": "RnbeiOmNT3_Y"
      },
      "execution_count": 65,
      "outputs": []
    },
    {
      "cell_type": "code",
      "source": [],
      "metadata": {
        "id": "pXQpek7IT-co"
      },
      "execution_count": null,
      "outputs": []
    }
  ],
  "metadata": {
    "accelerator": "GPU",
    "colab": {
      "provenance": [],
      "authorship_tag": "ABX9TyPkK9gbxr8wEnXhH/kWGgN2",
      "include_colab_link": true
    },
    "gpuClass": "standard",
    "kernelspec": {
      "display_name": "Python 3",
      "name": "python3"
    },
    "language_info": {
      "name": "python"
    }
  },
  "nbformat": 4,
  "nbformat_minor": 0
}